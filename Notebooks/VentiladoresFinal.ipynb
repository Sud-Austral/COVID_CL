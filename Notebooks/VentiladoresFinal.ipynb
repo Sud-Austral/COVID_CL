{
 "cells": [
  {
   "cell_type": "code",
   "execution_count": 1,
   "metadata": {},
   "outputs": [],
   "source": [
    "import pandas as pd\n",
    "\n",
    "ucie = pd.read_csv(\"https://raw.githubusercontent.com/Sud-Austral/Datos/master/Chile/MinCiencia/Input-minCiencia/ReporteDiario/HospitalizadosUCIEtario.csv\")\n",
    "ucieT = pd.melt(ucie, id_vars=[\"Grupo de edad\"], var_name='Fecha', value_name='Hospitalizados UCI Etario')\n",
    "ucieT.to_excel(\"Hospitalizados_UCI_Etario.xlsx\", index = False)\n",
    "\n",
    "vent = pd.read_csv(\"https://raw.githubusercontent.com/Sud-Austral/Datos/master/Chile/MinCiencia/Input-minCiencia/ReporteDiario/NumeroVentiladores.csv\")\n",
    "ventT = pd.melt(vent, id_vars=[\"Ventiladores\"], var_name='Fecha', value_name='Cantidad de Ventiladores')\n",
    "ventT = ventT.rename(columns={'Ventiladores':'Estado'})\n",
    "ventT = ventT[ventT.Estado != 'total']\n",
    "ventT.to_excel(\"Ventiladores.xlsx\", index = False)\n",
    "\n",
    "camas = pd.read_csv(\"https://raw.githubusercontent.com/Sud-Austral/Datos/master/Chile/MinCiencia/Productos/producto24-CamasHospital_Diario.csv\")\n",
    "camasT =  pd.melt(camas, id_vars=[\"Tipo de cama\"], var_name='Fecha', value_name='Cantidad de camas')\n",
    "camasT.to_excel(\"CamasHospital_Diario.xlsx\", index = False)\n"
   ]
  },
  {
   "cell_type": "code",
   "execution_count": 20,
   "metadata": {},
   "outputs": [],
   "source": [
    "salida = pd.merge(ucieT, ventT, on = ['Fecha'], how = 'outer')\n",
    "salida = pd.merge(salida, xT, on = ['Fecha'], how = 'outer')\n",
    "salida.to_excel(\"Salida1.xlsx\", index = False)"
   ]
  },
  {
   "cell_type": "code",
   "execution_count": 21,
   "metadata": {},
   "outputs": [],
   "source": [
    "salida2 = pd.concat([ucieT, ventT, xT], ignore_index=True)\n",
    "salida2.to_excel(\"Salida2.xlsx\", index = False)"
   ]
  },
  {
   "cell_type": "code",
   "execution_count": null,
   "metadata": {},
   "outputs": [],
   "source": []
  }
 ],
 "metadata": {
  "kernelspec": {
   "display_name": "Python 3",
   "language": "python",
   "name": "python3"
  },
  "language_info": {
   "codemirror_mode": {
    "name": "ipython",
    "version": 3
   },
   "file_extension": ".py",
   "mimetype": "text/x-python",
   "name": "python",
   "nbconvert_exporter": "python",
   "pygments_lexer": "ipython3",
   "version": "3.8.5"
  }
 },
 "nbformat": 4,
 "nbformat_minor": 4
}
